{
 "cells": [
  {
   "cell_type": "code",
   "execution_count": 11,
   "metadata": {},
   "outputs": [
    {
     "ename": "IndentationError",
     "evalue": "unexpected indent (<ipython-input-11-94f252120b25>, line 40)",
     "output_type": "error",
     "traceback": [
      "\u001b[1;36m  File \u001b[1;32m\"<ipython-input-11-94f252120b25>\"\u001b[1;36m, line \u001b[1;32m40\u001b[0m\n\u001b[1;33m    df['Start Time'] = pd.to_datetime(yearfirst = True)\u001b[0m\n\u001b[1;37m    ^\u001b[0m\n\u001b[1;31mIndentationError\u001b[0m\u001b[1;31m:\u001b[0m unexpected indent\n"
     ]
    }
   ],
   "source": [
    "#Load and Filter the Dataset\n",
    "#This is a bit of a bigger task, which involves choosing a dataset to load \n",
    "#and filtering it based on a specified month and day.\n",
    "#In the quiz below, you'll implement the load_data() function, which you can use directly in your project.\n",
    "#There are four steps:\n",
    "#Load the dataset for the specified city. Index the global CITY_DATA dictionary object to get the\n",
    "#corresponding filename for the given city name.\n",
    "#Create month and day_of_week columns. Convert the \"Start Time\" column to datetime and extract the month number\n",
    "#and weekday name into separate columns using the datetime module.\n",
    "#Filter by month. Since the month parameter is given as the name of the month, \n",
    "#you'll need to first convert this to the corresponding month number.\n",
    "#Then, select rows of the dataframe that have the specified month and reassign this as the new dataframe.\n",
    "#Filter by day of week. Select rows of the dataframe that have the specified day of week\n",
    "#and reassdf = pd.read_csv(\"chicago.csv\")\n",
    "import pandas as pd\n",
    "\n",
    "CITY_DATA = { 'chicago': 'chicago.csv',\n",
    "              'new york city': 'new_york_city.csv',\n",
    "              'washington': 'washington.csv' }\n",
    "\n",
    "def load_data(city, month, day):\n",
    "    df = pd.read_csv(\"chicago.csv\")\n",
    "    \"\"\"\n",
    "    Loads data for the specified city and filters by month and day if applicable.\n",
    "\n",
    "    Args:\n",
    "        (str) city - name of the city to analyze\n",
    "        (str) month - name of the month to filter by, or \"all\" to apply no month filter\n",
    "        (str) day - name of the day of week to filter by, or \"all\" to apply no day filter\n",
    "    Returns:\n",
    "        df - pandas DataFrame containing city data filtered by month and day\n",
    "    \"\"\"\n",
    "\n",
    "# load data file into a dataframe\n",
    "     \n",
    "            \n",
    "import datetime as dt\n",
    "\n",
    "        # convert the Start Time column to datetime\n",
    "        df['Start Time'] = pd.to_datetime(yearfirst = True)\n",
    "\n",
    "        # extract month and day of week from Start Time to create new columns\n",
    "        df['month'] =     df['Start Time'].dt.month\n",
    "        df['day_of_week'] = df['Start Time'].dt.weekday\n",
    "\n",
    "\n",
    "    # filter by month if applicable\n",
    "            if month != 'all':\n",
    "                # use the index of the months list to get the corresponding int\n",
    "                months = ['january', 'february', 'march', 'april', 'may', 'june']\n",
    "                month = \n",
    "\n",
    "                # filter by month to create the new dataframe\n",
    "                df = \n",
    "        # filter by day of week if applicable\n",
    "                    if day != 'all':\n",
    "                    # filter by day of week to create the new dataframe\n",
    "                    df = \n",
    "\n",
    "                    return df\n",
    "\n",
    "# df = load_data('chicago', 'march', 'friday')\n",
    "\n"
   ]
  },
  {
   "cell_type": "code",
   "execution_count": 4,
   "metadata": {},
   "outputs": [],
   "source": [
    "df = pd.read_csv(\"chicago.csv\")"
   ]
  },
  {
   "cell_type": "code",
   "execution_count": 6,
   "metadata": {},
   "outputs": [
    {
     "name": "stdout",
     "output_type": "stream",
     "text": [
      "<class 'pandas.core.frame.DataFrame'>\n",
      "RangeIndex: 400 entries, 0 to 399\n",
      "Data columns (total 8 columns):\n",
      "Start Time       400 non-null object\n",
      "End Time         400 non-null object\n",
      "Trip Duration    400 non-null int64\n",
      "Start Station    400 non-null object\n",
      "End Station      400 non-null object\n",
      "User Type        400 non-null object\n",
      "Gender           330 non-null object\n",
      "Birth Year       330 non-null float64\n",
      "dtypes: float64(1), int64(1), object(6)\n",
      "memory usage: 25.1+ KB\n"
     ]
    }
   ],
   "source": [
    "df.info()"
   ]
  },
  {
   "cell_type": "code",
   "execution_count": null,
   "metadata": {},
   "outputs": [],
   "source": []
  }
 ],
 "metadata": {
  "kernelspec": {
   "display_name": "Python 3",
   "language": "python",
   "name": "python3"
  },
  "language_info": {
   "codemirror_mode": {
    "name": "ipython",
    "version": 3
   },
   "file_extension": ".py",
   "mimetype": "text/x-python",
   "name": "python",
   "nbconvert_exporter": "python",
   "pygments_lexer": "ipython3",
   "version": "3.7.4"
  }
 },
 "nbformat": 4,
 "nbformat_minor": 4
}
