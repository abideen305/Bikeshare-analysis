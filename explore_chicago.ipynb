{
 "cells": [
  {
   "cell_type": "code",
   "execution_count": 1,
   "metadata": {},
   "outputs": [
    {
     "name": "stdout",
     "output_type": "stream",
     "text": [
      "            Start Time             End Time  Trip Duration  \\\n",
      "0  2017-05-29 18:36:27  2017-05-29 18:49:27            780   \n",
      "1  2017-06-12 19:00:33  2017-06-12 19:24:22           1429   \n",
      "2  2017-02-13 17:02:02  2017-02-13 17:20:10           1088   \n",
      "3  2017-04-24 18:39:45  2017-04-24 18:54:59            914   \n",
      "4  2017-01-26 15:36:07  2017-01-26 15:43:21            434   \n",
      "\n",
      "                  Start Station                          End Station  \\\n",
      "0     Columbus Dr & Randolph St                 Federal St & Polk St   \n",
      "1        Kingsbury St & Erie St  Orleans St & Merchandise Mart Plaza   \n",
      "2         Canal St & Madison St              Paulina Ave & North Ave   \n",
      "3  Spaulding Ave & Armitage Ave       California Ave & Milwaukee Ave   \n",
      "4        Clark St & Randolph St         Financial Pl & Congress Pkwy   \n",
      "\n",
      "    User Type  Gender  Birth Year  \n",
      "0  Subscriber    Male      1991.0  \n",
      "1    Customer     NaN         NaN  \n",
      "2  Subscriber  Female      1982.0  \n",
      "3  Subscriber    Male      1966.0  \n",
      "4  Subscriber  Female      1983.0  \n"
     ]
    }
   ],
   "source": [
    "#Introduction\n",
    "#Though there are a number of ways you can go about tackling this project, we recommend using NumPy and pandas.\n",
    "#Using these libraries is the industry standard for working with data in Python.\n",
    "#In the quizzes in this and the following sections,\n",
    "#you will get some practice using NumPy and pandas to complete different parts of the project. Then for the project,\n",
    "#you will need to piece your code together with some additional code to complete a final project!\n",
    "#These sections will likely be helpful if you use NumPy and pandas to complete the project.\n",
    "\n",
    "#Understanding the Data\n",
    "#Let's use pandas to better understand the bike share data! \n",
    "#Use this code editor to explore chicago.csv and answer the questions below.\n",
    "#The file included here is a mini version of one of the actual data files you will work with for the project.\n",
    "#It only includes 400 rows, but the structure and columns are the same.\n",
    "\n",
    "#1. What columns are in this dataset?\n",
    "#2. Are there any missing values?\n",
    "#3. What are the different types of values in each column?\n",
    "#4. Some useful pandas methods:\n",
    "\n",
    "#df.head()\n",
    "#df.columns\n",
    "#df.describe()\n",
    "#df.info()\n",
    "#df['column_name'].value_counts()\n",
    "#df['column_name'].unique()\n",
    "\n",
    "\n",
    "import pandas as pd\n",
    "\n",
    "df = pd.read_csv(\"chicago.csv\")\n",
    "print(df.head())  # start by viewing the first few rows of the dataset!\n"
   ]
  },
  {
   "cell_type": "code",
   "execution_count": 2,
   "metadata": {},
   "outputs": [
    {
     "name": "stdout",
     "output_type": "stream",
     "text": [
      "<class 'pandas.core.frame.DataFrame'>\n",
      "RangeIndex: 400 entries, 0 to 399\n",
      "Data columns (total 8 columns):\n",
      "Start Time       400 non-null object\n",
      "End Time         400 non-null object\n",
      "Trip Duration    400 non-null int64\n",
      "Start Station    400 non-null object\n",
      "End Station      400 non-null object\n",
      "User Type        400 non-null object\n",
      "Gender           330 non-null object\n",
      "Birth Year       330 non-null float64\n",
      "dtypes: float64(1), int64(1), object(6)\n",
      "memory usage: 25.1+ KB\n"
     ]
    }
   ],
   "source": [
    "df.info()"
   ]
  },
  {
   "cell_type": "code",
   "execution_count": 3,
   "metadata": {},
   "outputs": [
    {
     "data": {
      "text/html": [
       "<div>\n",
       "<style scoped>\n",
       "    .dataframe tbody tr th:only-of-type {\n",
       "        vertical-align: middle;\n",
       "    }\n",
       "\n",
       "    .dataframe tbody tr th {\n",
       "        vertical-align: top;\n",
       "    }\n",
       "\n",
       "    .dataframe thead th {\n",
       "        text-align: right;\n",
       "    }\n",
       "</style>\n",
       "<table border=\"1\" class=\"dataframe\">\n",
       "  <thead>\n",
       "    <tr style=\"text-align: right;\">\n",
       "      <th></th>\n",
       "      <th>Start Time</th>\n",
       "      <th>End Time</th>\n",
       "      <th>Trip Duration</th>\n",
       "      <th>Start Station</th>\n",
       "      <th>End Station</th>\n",
       "      <th>User Type</th>\n",
       "      <th>Gender</th>\n",
       "      <th>Birth Year</th>\n",
       "    </tr>\n",
       "  </thead>\n",
       "  <tbody>\n",
       "    <tr>\n",
       "      <td>0</td>\n",
       "      <td>2017-05-29 18:36:27</td>\n",
       "      <td>2017-05-29 18:49:27</td>\n",
       "      <td>780</td>\n",
       "      <td>Columbus Dr &amp; Randolph St</td>\n",
       "      <td>Federal St &amp; Polk St</td>\n",
       "      <td>Subscriber</td>\n",
       "      <td>Male</td>\n",
       "      <td>1991.0</td>\n",
       "    </tr>\n",
       "    <tr>\n",
       "      <td>1</td>\n",
       "      <td>2017-06-12 19:00:33</td>\n",
       "      <td>2017-06-12 19:24:22</td>\n",
       "      <td>1429</td>\n",
       "      <td>Kingsbury St &amp; Erie St</td>\n",
       "      <td>Orleans St &amp; Merchandise Mart Plaza</td>\n",
       "      <td>Customer</td>\n",
       "      <td>NaN</td>\n",
       "      <td>NaN</td>\n",
       "    </tr>\n",
       "    <tr>\n",
       "      <td>2</td>\n",
       "      <td>2017-02-13 17:02:02</td>\n",
       "      <td>2017-02-13 17:20:10</td>\n",
       "      <td>1088</td>\n",
       "      <td>Canal St &amp; Madison St</td>\n",
       "      <td>Paulina Ave &amp; North Ave</td>\n",
       "      <td>Subscriber</td>\n",
       "      <td>Female</td>\n",
       "      <td>1982.0</td>\n",
       "    </tr>\n",
       "    <tr>\n",
       "      <td>3</td>\n",
       "      <td>2017-04-24 18:39:45</td>\n",
       "      <td>2017-04-24 18:54:59</td>\n",
       "      <td>914</td>\n",
       "      <td>Spaulding Ave &amp; Armitage Ave</td>\n",
       "      <td>California Ave &amp; Milwaukee Ave</td>\n",
       "      <td>Subscriber</td>\n",
       "      <td>Male</td>\n",
       "      <td>1966.0</td>\n",
       "    </tr>\n",
       "    <tr>\n",
       "      <td>4</td>\n",
       "      <td>2017-01-26 15:36:07</td>\n",
       "      <td>2017-01-26 15:43:21</td>\n",
       "      <td>434</td>\n",
       "      <td>Clark St &amp; Randolph St</td>\n",
       "      <td>Financial Pl &amp; Congress Pkwy</td>\n",
       "      <td>Subscriber</td>\n",
       "      <td>Female</td>\n",
       "      <td>1983.0</td>\n",
       "    </tr>\n",
       "  </tbody>\n",
       "</table>\n",
       "</div>"
      ],
      "text/plain": [
       "            Start Time             End Time  Trip Duration  \\\n",
       "0  2017-05-29 18:36:27  2017-05-29 18:49:27            780   \n",
       "1  2017-06-12 19:00:33  2017-06-12 19:24:22           1429   \n",
       "2  2017-02-13 17:02:02  2017-02-13 17:20:10           1088   \n",
       "3  2017-04-24 18:39:45  2017-04-24 18:54:59            914   \n",
       "4  2017-01-26 15:36:07  2017-01-26 15:43:21            434   \n",
       "\n",
       "                  Start Station                          End Station  \\\n",
       "0     Columbus Dr & Randolph St                 Federal St & Polk St   \n",
       "1        Kingsbury St & Erie St  Orleans St & Merchandise Mart Plaza   \n",
       "2         Canal St & Madison St              Paulina Ave & North Ave   \n",
       "3  Spaulding Ave & Armitage Ave       California Ave & Milwaukee Ave   \n",
       "4        Clark St & Randolph St         Financial Pl & Congress Pkwy   \n",
       "\n",
       "    User Type  Gender  Birth Year  \n",
       "0  Subscriber    Male      1991.0  \n",
       "1    Customer     NaN         NaN  \n",
       "2  Subscriber  Female      1982.0  \n",
       "3  Subscriber    Male      1966.0  \n",
       "4  Subscriber  Female      1983.0  "
      ]
     },
     "execution_count": 3,
     "metadata": {},
     "output_type": "execute_result"
    }
   ],
   "source": [
    "df.head()"
   ]
  },
  {
   "cell_type": "code",
   "execution_count": 7,
   "metadata": {},
   "outputs": [
    {
     "data": {
      "text/plain": [
       "Index(['Start Time', 'End Time', 'Trip Duration', 'Start Station',\n",
       "       'End Station', 'User Type', 'Gender', 'Birth Year'],\n",
       "      dtype='object')"
      ]
     },
     "execution_count": 7,
     "metadata": {},
     "output_type": "execute_result"
    }
   ],
   "source": [
    "#1. What columns are in this dataset?\n",
    "df.columns"
   ]
  },
  {
   "cell_type": "code",
   "execution_count": 8,
   "metadata": {},
   "outputs": [
    {
     "data": {
      "text/html": [
       "<div>\n",
       "<style scoped>\n",
       "    .dataframe tbody tr th:only-of-type {\n",
       "        vertical-align: middle;\n",
       "    }\n",
       "\n",
       "    .dataframe tbody tr th {\n",
       "        vertical-align: top;\n",
       "    }\n",
       "\n",
       "    .dataframe thead th {\n",
       "        text-align: right;\n",
       "    }\n",
       "</style>\n",
       "<table border=\"1\" class=\"dataframe\">\n",
       "  <thead>\n",
       "    <tr style=\"text-align: right;\">\n",
       "      <th></th>\n",
       "      <th>Trip Duration</th>\n",
       "      <th>Birth Year</th>\n",
       "    </tr>\n",
       "  </thead>\n",
       "  <tbody>\n",
       "    <tr>\n",
       "      <td>count</td>\n",
       "      <td>400.000000</td>\n",
       "      <td>330.000000</td>\n",
       "    </tr>\n",
       "    <tr>\n",
       "      <td>mean</td>\n",
       "      <td>938.215000</td>\n",
       "      <td>1980.533333</td>\n",
       "    </tr>\n",
       "    <tr>\n",
       "      <td>std</td>\n",
       "      <td>2466.972184</td>\n",
       "      <td>11.723011</td>\n",
       "    </tr>\n",
       "    <tr>\n",
       "      <td>min</td>\n",
       "      <td>97.000000</td>\n",
       "      <td>1949.000000</td>\n",
       "    </tr>\n",
       "    <tr>\n",
       "      <td>25%</td>\n",
       "      <td>407.000000</td>\n",
       "      <td>1973.000000</td>\n",
       "    </tr>\n",
       "    <tr>\n",
       "      <td>50%</td>\n",
       "      <td>634.000000</td>\n",
       "      <td>1984.000000</td>\n",
       "    </tr>\n",
       "    <tr>\n",
       "      <td>75%</td>\n",
       "      <td>997.750000</td>\n",
       "      <td>1989.000000</td>\n",
       "    </tr>\n",
       "    <tr>\n",
       "      <td>max</td>\n",
       "      <td>47551.000000</td>\n",
       "      <td>1999.000000</td>\n",
       "    </tr>\n",
       "  </tbody>\n",
       "</table>\n",
       "</div>"
      ],
      "text/plain": [
       "       Trip Duration   Birth Year\n",
       "count     400.000000   330.000000\n",
       "mean      938.215000  1980.533333\n",
       "std      2466.972184    11.723011\n",
       "min        97.000000  1949.000000\n",
       "25%       407.000000  1973.000000\n",
       "50%       634.000000  1984.000000\n",
       "75%       997.750000  1989.000000\n",
       "max     47551.000000  1999.000000"
      ]
     },
     "execution_count": 8,
     "metadata": {},
     "output_type": "execute_result"
    }
   ],
   "source": [
    "df.describe()"
   ]
  },
  {
   "cell_type": "code",
   "execution_count": 9,
   "metadata": {},
   "outputs": [
    {
     "data": {
      "text/plain": [
       "Start Time        0\n",
       "End Time          0\n",
       "Trip Duration     0\n",
       "Start Station     0\n",
       "End Station       0\n",
       "User Type         0\n",
       "Gender           70\n",
       "Birth Year       70\n",
       "dtype: int64"
      ]
     },
     "execution_count": 9,
     "metadata": {},
     "output_type": "execute_result"
    }
   ],
   "source": [
    "#if there is missing data\n",
    "df.isnull().sum()"
   ]
  },
  {
   "cell_type": "markdown",
   "metadata": {},
   "source": [
    "# Values in each column "
   ]
  },
  {
   "cell_type": "code",
   "execution_count": 14,
   "metadata": {},
   "outputs": [
    {
     "data": {
      "text/plain": [
       "Male      244\n",
       "Female     86\n",
       "Name: Gender, dtype: int64"
      ]
     },
     "execution_count": 14,
     "metadata": {},
     "output_type": "execute_result"
    }
   ],
   "source": [
    "df[\"Gender\"].value_counts()"
   ]
  },
  {
   "cell_type": "code",
   "execution_count": 17,
   "metadata": {},
   "outputs": [
    {
     "data": {
      "text/plain": [
       "1989.0    24\n",
       "1990.0    23\n",
       "1986.0    21\n",
       "1984.0    20\n",
       "1985.0    18\n",
       "1991.0    14\n",
       "1992.0    13\n",
       "1993.0    13\n",
       "1987.0    12\n",
       "1982.0    12\n",
       "1983.0     9\n",
       "1973.0     8\n",
       "1994.0     8\n",
       "1972.0     7\n",
       "1981.0     7\n",
       "1988.0     7\n",
       "1969.0     6\n",
       "1978.0     6\n",
       "1979.0     6\n",
       "1971.0     5\n",
       "1953.0     5\n",
       "1966.0     5\n",
       "1961.0     5\n",
       "1959.0     5\n",
       "1975.0     5\n",
       "1980.0     5\n",
       "1977.0     4\n",
       "1965.0     4\n",
       "1995.0     4\n",
       "1957.0     4\n",
       "1997.0     4\n",
       "1963.0     4\n",
       "1974.0     4\n",
       "1964.0     4\n",
       "1968.0     4\n",
       "1956.0     3\n",
       "1952.0     2\n",
       "1976.0     2\n",
       "1970.0     2\n",
       "1967.0     2\n",
       "1949.0     2\n",
       "1962.0     2\n",
       "1950.0     2\n",
       "1954.0     2\n",
       "1958.0     2\n",
       "1960.0     1\n",
       "1998.0     1\n",
       "1955.0     1\n",
       "1999.0     1\n",
       "Name: Birth Year, dtype: int64"
      ]
     },
     "execution_count": 17,
     "metadata": {},
     "output_type": "execute_result"
    }
   ],
   "source": [
    "df[\"Birth Year\"].value_counts()"
   ]
  },
  {
   "cell_type": "code",
   "execution_count": 22,
   "metadata": {},
   "outputs": [
    {
     "data": {
      "text/plain": [
       "Streeter Dr & Grand Ave                10\n",
       "Orleans St & Merchandise Mart Plaza     9\n",
       "Clinton St & Washington Blvd            8\n",
       "Dusable Harbor                          7\n",
       "Kingsbury St & Kinzie St                6\n",
       "                                       ..\n",
       "Halsted St & Dickens Ave                1\n",
       "State St & Harrison St                  1\n",
       "Western Ave & Winnebago Ave             1\n",
       "Oakley Ave & Irving Park Rd             1\n",
       "Sheridan Rd & Loyola Ave                1\n",
       "Name: Start Station, Length: 208, dtype: int64"
      ]
     },
     "execution_count": 22,
     "metadata": {},
     "output_type": "execute_result"
    }
   ],
   "source": [
    "df[\"Start Station\"].value_counts()"
   ]
  },
  {
   "cell_type": "code",
   "execution_count": 18,
   "metadata": {},
   "outputs": [
    {
     "data": {
      "text/plain": [
       "Clinton St & Washington Blvd       8\n",
       "Streeter Dr & Grand Ave            7\n",
       "Canal St & Madison St              6\n",
       "Larrabee St & Kingsbury St         6\n",
       "Lake Shore Dr & Monroe St          6\n",
       "                                  ..\n",
       "Lincoln Ave & Diversey Pkwy        1\n",
       "Racine Ave (May St) & Fulton St    1\n",
       "Spaulding Ave & Armitage Ave       1\n",
       "Carpenter St & Huron St            1\n",
       "Broadway & Argyle St               1\n",
       "Name: End Station, Length: 214, dtype: int64"
      ]
     },
     "execution_count": 18,
     "metadata": {},
     "output_type": "execute_result"
    }
   ],
   "source": [
    "df[\"End Station\"].value_counts()"
   ]
  },
  {
   "cell_type": "code",
   "execution_count": 19,
   "metadata": {},
   "outputs": [
    {
     "data": {
      "text/plain": [
       "2017-04-04 17:09:16    1\n",
       "2017-04-19 11:50:47    1\n",
       "2017-06-21 16:39:32    1\n",
       "2017-04-25 09:38:27    1\n",
       "2017-05-13 17:38:04    1\n",
       "                      ..\n",
       "2017-04-09 15:17:36    1\n",
       "2017-04-30 11:04:32    1\n",
       "2017-06-13 17:08:17    1\n",
       "2017-01-27 09:58:25    1\n",
       "2017-06-23 19:30:03    1\n",
       "Name: End Time, Length: 400, dtype: int64"
      ]
     },
     "execution_count": 19,
     "metadata": {},
     "output_type": "execute_result"
    }
   ],
   "source": [
    "df[\"End Time\"].value_counts()"
   ]
  },
  {
   "cell_type": "code",
   "execution_count": 20,
   "metadata": {},
   "outputs": [
    {
     "data": {
      "text/plain": [
       "2017-06-11 15:24:29    1\n",
       "2017-05-27 10:32:57    1\n",
       "2017-04-10 17:31:54    1\n",
       "2017-05-30 18:32:36    1\n",
       "2017-03-18 13:44:02    1\n",
       "                      ..\n",
       "2017-04-04 14:12:57    1\n",
       "2017-04-17 15:43:55    1\n",
       "2017-04-08 17:12:08    1\n",
       "2017-06-17 19:32:21    1\n",
       "2017-02-01 07:27:29    1\n",
       "Name: Start Time, Length: 400, dtype: int64"
      ]
     },
     "execution_count": 20,
     "metadata": {},
     "output_type": "execute_result"
    }
   ],
   "source": [
    "df[\"Start Time\"].value_counts()"
   ]
  },
  {
   "cell_type": "code",
   "execution_count": 21,
   "metadata": {},
   "outputs": [
    {
     "data": {
      "text/plain": [
       "Subscriber    330\n",
       "Customer       70\n",
       "Name: User Type, dtype: int64"
      ]
     },
     "execution_count": 21,
     "metadata": {},
     "output_type": "execute_result"
    }
   ],
   "source": [
    "df[\"User Type\"].value_counts()"
   ]
  },
  {
   "cell_type": "code",
   "execution_count": 24,
   "metadata": {},
   "outputs": [
    {
     "data": {
      "text/plain": [
       "721     4\n",
       "280     3\n",
       "335     3\n",
       "237     3\n",
       "509     2\n",
       "       ..\n",
       "344     1\n",
       "1160    1\n",
       "1370    1\n",
       "1883    1\n",
       "605     1\n",
       "Name: Trip Duration, Length: 351, dtype: int64"
      ]
     },
     "execution_count": 24,
     "metadata": {},
     "output_type": "execute_result"
    }
   ],
   "source": [
    "df[\"Trip Duration\"].value_counts()"
   ]
  },
  {
   "cell_type": "code",
   "execution_count": 28,
   "metadata": {},
   "outputs": [
    {
     "data": {
      "text/plain": [
       "array([1991.,   nan, 1982., 1966., 1983., 1981., 1986., 1969., 1963.,\n",
       "       1990., 1979., 1972., 1957., 1962., 1965., 1987., 1985., 1974.,\n",
       "       1994., 1984., 1993., 1980., 1964., 1961., 1975., 1949., 1967.,\n",
       "       1989., 1997., 1992., 1995., 1988., 1950., 1978., 1956., 1953.,\n",
       "       1954., 1971., 1976., 1970., 1977., 1973., 1952., 1998., 1959.,\n",
       "       1968., 1955., 1960., 1999., 1958.])"
      ]
     },
     "execution_count": 28,
     "metadata": {},
     "output_type": "execute_result"
    }
   ],
   "source": [
    "df[\"Birth Year\"].unique()"
   ]
  },
  {
   "cell_type": "code",
   "execution_count": 30,
   "metadata": {},
   "outputs": [],
   "source": [
    "unique_value = df.apply(lambda x: len(x.unique()))"
   ]
  },
  {
   "cell_type": "code",
   "execution_count": 31,
   "metadata": {},
   "outputs": [
    {
     "data": {
      "text/plain": [
       "Start Time       400\n",
       "End Time         400\n",
       "Trip Duration    351\n",
       "Start Station    208\n",
       "End Station      214\n",
       "User Type          2\n",
       "Gender             3\n",
       "Birth Year        50\n",
       "dtype: int64"
      ]
     },
     "execution_count": 31,
     "metadata": {},
     "output_type": "execute_result"
    }
   ],
   "source": [
    "unique_value"
   ]
  },
  {
   "cell_type": "code",
   "execution_count": 32,
   "metadata": {},
   "outputs": [
    {
     "data": {
      "text/plain": [
       "array(['Male', nan, 'Female'], dtype=object)"
      ]
     },
     "execution_count": 32,
     "metadata": {},
     "output_type": "execute_result"
    }
   ],
   "source": [
    "df[\"Gender\"].unique()"
   ]
  },
  {
   "cell_type": "code",
   "execution_count": 33,
   "metadata": {},
   "outputs": [
    {
     "name": "stdout",
     "output_type": "stream",
     "text": [
      "<class 'pandas.core.frame.DataFrame'>\n",
      "RangeIndex: 400 entries, 0 to 399\n",
      "Data columns (total 8 columns):\n",
      "Start Time       400 non-null object\n",
      "End Time         400 non-null object\n",
      "Trip Duration    400 non-null int64\n",
      "Start Station    400 non-null object\n",
      "End Station      400 non-null object\n",
      "User Type        400 non-null object\n",
      "Gender           330 non-null object\n",
      "Birth Year       330 non-null float64\n",
      "dtypes: float64(1), int64(1), object(6)\n",
      "memory usage: 25.1+ KB\n"
     ]
    }
   ],
   "source": [
    "df.info()"
   ]
  },
  {
   "cell_type": "code",
   "execution_count": null,
   "metadata": {},
   "outputs": [],
   "source": []
  }
 ],
 "metadata": {
  "kernelspec": {
   "display_name": "Python 3",
   "language": "python",
   "name": "python3"
  },
  "language_info": {
   "codemirror_mode": {
    "name": "ipython",
    "version": 3
   },
   "file_extension": ".py",
   "mimetype": "text/x-python",
   "name": "python",
   "nbconvert_exporter": "python",
   "pygments_lexer": "ipython3",
   "version": "3.7.4"
  }
 },
 "nbformat": 4,
 "nbformat_minor": 4
}
